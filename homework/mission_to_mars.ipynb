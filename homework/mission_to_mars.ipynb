{
 "cells": [
  {
   "cell_type": "code",
   "execution_count": 1,
   "metadata": {},
   "outputs": [],
   "source": [
    "from splinter import Browser \n",
    "from bs4 import BeautifulSoup as bs\n",
    "import time\n",
    "import numpy as np\n",
    "import pandas as pd\n",
    "import collections\n",
    "import pymongo\n",
    "from IPython.display import display_html"
   ]
  },
  {
   "cell_type": "code",
   "execution_count": 2,
   "metadata": {},
   "outputs": [],
   "source": [
    "# Visit URL\n",
    "browser = Browser('chrome')\n",
    "\n",
    "def init_browser():\n",
    "    # @NOTE: Replace the path with your actual path to the chromedriver\n",
    "    executable_path = {\"executable_path\": \"chromedriver\"}\n",
    "    return Browser(\"chrome\", **executable_path)"
   ]
  },
  {
   "cell_type": "code",
   "execution_count": 3,
   "metadata": {},
   "outputs": [
    {
     "data": {
      "text/plain": [
       "(\"Six Things to Know About NASA's Opportunity Rover\",\n",
       " \"Opportunity's mission is complete. Here are highlights from its time on Mars.\")"
      ]
     },
     "execution_count": 3,
     "metadata": {},
     "output_type": "execute_result"
    }
   ],
   "source": [
    "def scrape_nasa():\n",
    "    browser = init_browser()\n",
    "    url = \"https://mars.nasa.gov/news/?page=0&per_page=40&order=publish_date+desc%2Ccreated_at+desc&search=&category=19%2C165%2C184%2C204&blank_scope=Latest\"\n",
    "    browser.visit(url)\n",
    "    \n",
    "    time.sleep(1)\n",
    "    \n",
    "    # Scrape page into Soup\n",
    "    html = browser.html\n",
    "    soup = bs(html, \"html.parser\")\n",
    "    \n",
    "    #get the news title\n",
    "    news_title = str(soup.find('div',class_=\"content_title\").text)\n",
    "    #get the corrsponding paragraph text\n",
    "    news_p = str(soup.find('div',class_=\"article_teaser_body\").text)\n",
    "    \n",
    "       # Close the browser after scraping\n",
    "    browser.quit()\n",
    "\n",
    "    # Return results\n",
    "    return news_title, news_p"
   ]
  },
  {
   "cell_type": "code",
   "execution_count": 4,
   "metadata": {},
   "outputs": [
    {
     "data": {
      "text/plain": [
       "'https://www.jpl.nasa.gov//spaceimages/images/mediumsize/PIA16613_ip.jpg'"
      ]
     },
     "execution_count": 4,
     "metadata": {},
     "output_type": "execute_result"
    }
   ],
   "source": [
    "def scrape_JPL():\n",
    "    browser = init_browser()\n",
    "    url = \"https://www.jpl.nasa.gov/spaceimages/?search=&category=Mars\"\n",
    "    browser.visit(url)\n",
    "    \n",
    "    time.sleep(1)\n",
    "    \n",
    "    # Scrape page into Soup\n",
    "    html = browser.html\n",
    "    soup = bs(html, \"html.parser\")\n",
    "    anchor = soup.find('a', class_=\"button fancybox\")\n",
    "    image_url = str(anchor.get('data-fancybox-href'))\n",
    "    featured_image_url = (\"https://www.jpl.nasa.gov/\" + image_url)\n",
    "    browser.quit()\n",
    "    \n",
    "    return featured_image_url"
   ]
  },
  {
   "cell_type": "code",
   "execution_count": 5,
   "metadata": {},
   "outputs": [
    {
     "data": {
      "text/plain": [
       "u'#Opportunity the robot achieved so much because of #Opportunity the team.  People like @PlanetaryKeri, @doug_ellison, @marsroverdriver, @tanyaofmars,  @marssciencegrad, @cirquelar, @bellutta, @Dr_ThomasZ and so many more. Read more at #WRALhttps://www.wral.com/my-battery-is-low-and-it-s-getting-dark-end-of-opportunity-mission-a-loss-for-team/18197530/\\xa0\\u2026'"
      ]
     },
     "execution_count": 5,
     "metadata": {},
     "output_type": "execute_result"
    }
   ],
   "source": [
    "def scrape_twitter():\n",
    "    browser = init_browser()\n",
    "    url = \"https://twitter.com/marswxreport?lang=en\"\n",
    "    browser.visit(url)\n",
    "    \n",
    "    time.sleep(1)\n",
    "    \n",
    "    # Scrape page into Soup\n",
    "    html = browser.html\n",
    "    soup = bs(html, \"html.parser\")\n",
    "    mars_weather = soup.find(\"p\", class_=\"TweetTextSize TweetTextSize--normal js-tweet-text tweet-text\").text\n",
    "    mars_weather = mars_weather.strip('/n')\n",
    "    browser.quit()\n",
    "    return mars_weather"
   ]
  },
  {
   "cell_type": "code",
   "execution_count": 12,
   "metadata": {},
   "outputs": [
    {
     "data": {
      "text/plain": [
       "'<table border=\"1\" class=\"dataframe\">   <thead>     <tr style=\"text-align: center;\">       <th>Description</th>       <th>Data</th>     </tr>   </thead>   <tbody>     <tr>       <td>Polar Diameter:</td>       <td>6,752 km</td>     </tr>     <tr>       <td>Mass:</td>       <td>6.42 x 10^23 kg (10.7% Earth)</td>     </tr>     <tr>       <td>Moons:</td>       <td>2 (Phobos &amp; Deimos)</td>     </tr>     <tr>       <td>Orbit Distance:</td>       <td>227,943,824 km (1.52 AU)</td>     </tr>     <tr>       <td>Orbit Period:</td>       <td>687 days (1.9 years)</td>     </tr>     <tr>       <td>Surface Temperature:</td>       <td>-153 to 20 \\xc3\\x82\\xc2\\xb0C</td>     </tr>     <tr>       <td>First Record:</td>       <td>2nd millennium BC</td>     </tr>     <tr>       <td>Recorded By:</td>       <td>Egyptian astronomers</td>     </tr>   </tbody> </table>'"
      ]
     },
     "execution_count": 12,
     "metadata": {},
     "output_type": "execute_result"
    }
   ],
   "source": [
    "def scrape_table():\n",
    "    browser = init_browser()\n",
    "    url = \"https://space-facts.com/mars/\"\n",
    "    browser.visit(url)\n",
    "    \n",
    "    time.sleep(1)\n",
    "    \n",
    "    # Scrape page into Soup\n",
    "    html = browser.html\n",
    "    soup = bs(html, \"html.parser\")\n",
    "    table = soup.find_all('table')[0]\n",
    "    df = pd.read_html(str(table),skiprows=1)[0]\n",
    "    df = df.rename(index=str, columns={0: \"Description\", 1: \"Data\"})\n",
    "    html_table = df.to_html(header=True,index=False,index_names=False,justify=\"center\")\n",
    "    html_table = html_table.replace('\\n',\" \").encode('utf-8')\n",
    "    html_table = str(html_table)\n",
    "    browser.quit()\n",
    "    return html_table\n",
    "\n",
    "scrape_table()"
   ]
  },
  {
   "cell_type": "code",
   "execution_count": 27,
   "metadata": {},
   "outputs": [
    {
     "data": {
      "text/plain": [
       "[{'img_url': 'https://astrogeology.usgs.gov//cache/images/cfa62af2557222a02478f1fcd781d445_cerberus_enhanced.tif_full.jpg',\n",
       "  'title': 'Cerberus Hemisphere Enhanced'},\n",
       " {'img_url': 'https://astrogeology.usgs.gov//cache/images/3cdd1cbf5e0813bba925c9030d13b62e_schiaparelli_enhanced.tif_full.jpg',\n",
       "  'title': 'Schiaparelli Hemisphere Enhanced'},\n",
       " {'img_url': 'https://astrogeology.usgs.gov//cache/images/ae209b4e408bb6c3e67b6af38168cf28_syrtis_major_enhanced.tif_full.jpg',\n",
       "  'title': 'Syrtis Major Hemisphere Enhanced'},\n",
       " {'img_url': 'https://astrogeology.usgs.gov//cache/images/7cf2da4bf549ed01c17f206327be4db7_valles_marineris_enhanced.tif_full.jpg',\n",
       "  'title': 'Valles Marineris Hemisphere Enhanced'}]"
      ]
     },
     "execution_count": 27,
     "metadata": {},
     "output_type": "execute_result"
    }
   ],
   "source": [
    "def image_urls():\n",
    "    link_names = ['Cerberus Hemisphere Enhanced','Schiaparelli Hemisphere Enhanced','Syrtis Major Hemisphere Enhanced','Valles Marineris Hemisphere Enhanced']\n",
    "    url_list = []\n",
    "    title_list = []\n",
    "    browser = init_browser()\n",
    "    url = \"https://astrogeology.usgs.gov/search/results?q=hemisphere+enhanced&k1=target&v1=Mars\"\n",
    "    browser.visit(url)\n",
    "    for name in link_names:\n",
    "        browser.click_link_by_partial_text(name)\n",
    "        time.sleep(1)\n",
    "        # Scrape page into Soup for img url\n",
    "        html = browser.html\n",
    "        soup = bs(html, \"html.parser\")\n",
    "        img = soup.find('img',class_=\"wide-image\")\n",
    "        src = str(img.get('src'))\n",
    "        img_url = (\"https://astrogeology.usgs.gov/\" + src)\n",
    "        url_list.append(img_url)\n",
    "        \n",
    "        title = soup.find('h2',class_=\"title\").text\n",
    "        title_list.append(str(title))\n",
    "        \n",
    "        browser.back()\n",
    "    browser.quit()\n",
    "    hemisphere_image_urls = [\n",
    "    {\"title\": title_list[0], \"img_url\": url_list[0]},\n",
    "    {\"title\": title_list[1], \"img_url\": url_list[1]},\n",
    "    {\"title\": title_list[2], \"img_url\": url_list[2]},\n",
    "    {\"title\": title_list[3], \"img_url\": url_list[3]},\n",
    "    ]\n",
    "    \n",
    "    return hemisphere_image_urls"
   ]
  },
  {
   "cell_type": "code",
   "execution_count": 29,
   "metadata": {},
   "outputs": [],
   "source": [
    "def scrape():\n",
    "    dictionary = {\"title and teaser\":scrape_nasa(),\n",
    "                  \"featured image url\":scrape_JPL(),\n",
    "                  \"mars weather\":scrape_twitter(),\n",
    "                  \"image_urls\":image_urls()}\n",
    "    return dictionary"
   ]
  },
  {
   "cell_type": "code",
   "execution_count": 30,
   "metadata": {},
   "outputs": [
    {
     "data": {
      "text/plain": [
       "{'featured image url': 'https://www.jpl.nasa.gov//spaceimages/images/mediumsize/PIA19101_ip.jpg',\n",
       " 'image_urls': [{'img_url': 'https://astrogeology.usgs.gov//cache/images/cfa62af2557222a02478f1fcd781d445_cerberus_enhanced.tif_full.jpg',\n",
       "   'title': 'Cerberus Hemisphere Enhanced'},\n",
       "  {'img_url': 'https://astrogeology.usgs.gov//cache/images/3cdd1cbf5e0813bba925c9030d13b62e_schiaparelli_enhanced.tif_full.jpg',\n",
       "   'title': 'Schiaparelli Hemisphere Enhanced'},\n",
       "  {'img_url': 'https://astrogeology.usgs.gov//cache/images/ae209b4e408bb6c3e67b6af38168cf28_syrtis_major_enhanced.tif_full.jpg',\n",
       "   'title': 'Syrtis Major Hemisphere Enhanced'},\n",
       "  {'img_url': 'https://astrogeology.usgs.gov//cache/images/7cf2da4bf549ed01c17f206327be4db7_valles_marineris_enhanced.tif_full.jpg',\n",
       "   'title': 'Valles Marineris Hemisphere Enhanced'}],\n",
       " 'mars weather': u'#Opportunity the robot achieved so much because of #Opportunity the team.  People like @PlanetaryKeri, @doug_ellison, @marsroverdriver, @tanyaofmars,  @marssciencegrad, @cirquelar, @bellutta, @Dr_ThomasZ and so many more. Read more at #WRALhttps://www.wral.com/my-battery-is-low-and-it-s-getting-dark-end-of-opportunity-mission-a-loss-for-team/18197530/\\xa0\\u2026',\n",
       " 'title and teaser': (\"Six Things to Know About NASA's Opportunity Rover\",\n",
       "  \"Opportunity's mission is complete. Here are highlights from its time on Mars.\")}"
      ]
     },
     "execution_count": 30,
     "metadata": {},
     "output_type": "execute_result"
    }
   ],
   "source": [
    "scrape()"
   ]
  },
  {
   "cell_type": "code",
   "execution_count": null,
   "metadata": {},
   "outputs": [],
   "source": []
  }
 ],
 "metadata": {
  "kernelspec": {
   "display_name": "Python 2",
   "language": "python",
   "name": "python2"
  },
  "language_info": {
   "codemirror_mode": {
    "name": "ipython",
    "version": 2
   },
   "file_extension": ".py",
   "mimetype": "text/x-python",
   "name": "python",
   "nbconvert_exporter": "python",
   "pygments_lexer": "ipython2",
   "version": "2.7.15"
  }
 },
 "nbformat": 4,
 "nbformat_minor": 2
}
